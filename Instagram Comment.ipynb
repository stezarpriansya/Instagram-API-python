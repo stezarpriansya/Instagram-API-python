{
 "cells": [
  {
   "cell_type": "code",
   "execution_count": 1,
   "metadata": {},
   "outputs": [],
   "source": [
    "from InstagramAPI import InstagramAPI\n",
    "import time\n",
    "from datetime import datetime\n",
    "import requests\n",
    "import json"
   ]
  },
  {
   "cell_type": "code",
   "execution_count": 2,
   "metadata": {},
   "outputs": [],
   "source": [
    "url = 'https://www.instagram.com/p/BoHGsQ6HJ6W/'"
   ]
  },
  {
   "cell_type": "code",
   "execution_count": 3,
   "metadata": {},
   "outputs": [],
   "source": [
    "res = requests.get('https://api.instagram.com/oembed/?callback=&url='+url)"
   ]
  },
  {
   "cell_type": "code",
   "execution_count": 4,
   "metadata": {},
   "outputs": [],
   "source": [
    "json_res = json.loads(res.text)"
   ]
  },
  {
   "cell_type": "code",
   "execution_count": 5,
   "metadata": {},
   "outputs": [],
   "source": [
    "user_id = json_res['author_id']"
   ]
  },
  {
   "cell_type": "code",
   "execution_count": 6,
   "metadata": {},
   "outputs": [],
   "source": [
    "akun = open('.env', 'r').read().split('\\n')"
   ]
  },
  {
   "cell_type": "code",
   "execution_count": 7,
   "metadata": {},
   "outputs": [
    {
     "name": "stdout",
     "output_type": "stream",
     "text": [
      "Request return 400 error!\n",
      "Two Factor Authentication Required!\n",
      "Two Factor Identifier:  g2lP1vBbf6\n",
      "Finish login with finishTwoFactorAuth(verification_code, two_factor_identifier) !\n"
     ]
    }
   ],
   "source": [
    "API = InstagramAPI(akun[0], akun[1])\n",
    "API.login()"
   ]
  },
  {
   "cell_type": "code",
   "execution_count": 11,
   "metadata": {},
   "outputs": [
    {
     "name": "stdout",
     "output_type": "stream",
     "text": [
      "Request return 404 error!\n",
      "Login success with two factor authentication!\n",
      "\n"
     ]
    },
    {
     "data": {
      "text/plain": [
       "True"
      ]
     },
     "execution_count": 11,
     "metadata": {},
     "output_type": "execute_result"
    }
   ],
   "source": [
    "API.finishTwoFactorAuth('612537', 'g2lP1vBbf6')"
   ]
  },
  {
   "cell_type": "code",
   "execution_count": 12,
   "metadata": {},
   "outputs": [],
   "source": [
    "more_available = True\n",
    "feeds = []\n",
    "max_feed_id = ''"
   ]
  },
  {
   "cell_type": "code",
   "execution_count": 13,
   "metadata": {},
   "outputs": [],
   "source": [
    "while more_available:\n",
    "    feed_seva = API.getUserFeed(user_id, maxid=max_feed_id)\n",
    "    # feed' page come from older to newer, lets preserve desc order in full list\n",
    "    for c in API.LastJson['items']:\n",
    "        feeds.append(c)\n",
    "    more_available = API.LastJson.get('more_available', False)\n",
    "    # next page\n",
    "    if more_available:\n",
    "        max_feed_id = API.LastJson.get('next_max_id', '')\n",
    "        time.sleep(2)"
   ]
  },
  {
   "cell_type": "code",
   "execution_count": 14,
   "metadata": {},
   "outputs": [],
   "source": [
    "has_more_comments = True\n",
    "max_id = ''\n",
    "comments = []"
   ]
  },
  {
   "cell_type": "code",
   "execution_count": null,
   "metadata": {},
   "outputs": [],
   "source": [
    "for feed in feeds\n",
    "while has_more_comments:\n",
    "    _ = API.getMediaComments(media_id, max_id=max_id)\n",
    "    # comments' page come from older to newer, lets preserve desc order in full list\n",
    "    for c in reversed(API.LastJson['comments']):\n",
    "        comments.append(c)\n",
    "    has_more_comments = API.LastJson.get('has_more_comments', False)\n",
    "    # evaluate stop conditions\n",
    "    if count and len(comments) >= count:\n",
    "        comments = comments[:count]\n",
    "        # stop loop\n",
    "        has_more_comments = False\n",
    "        print \"stopped by count\"\n",
    "    if until_date:\n",
    "        older_comment = comments[-1]\n",
    "        dt = datetime.utcfromtimestamp(older_comment.get('created_at_utc', 0))\n",
    "        # only check all records if the last is older than stop condition\n",
    "        if dt.isoformat() <= until_date:\n",
    "            # keep comments after until_date\n",
    "            comments = [\n",
    "                c\n",
    "                for c in comments\n",
    "                if datetime.utcfromtimestamp(c.get('created_at_utc', 0)) > until_date\n",
    "            ]\n",
    "            # stop loop\n",
    "            has_more_comments = False\n",
    "            print \"stopped by until_date\"\n",
    "    # next page\n",
    "    if has_more_comments:\n",
    "        max_id = API.LastJson.get('next_max_id', '')\n",
    "        time.sleep(2)"
   ]
  }
 ],
 "metadata": {
  "kernelspec": {
   "display_name": "Python 3",
   "language": "python",
   "name": "python3"
  },
  "language_info": {
   "codemirror_mode": {
    "name": "ipython",
    "version": 3
   },
   "file_extension": ".py",
   "mimetype": "text/x-python",
   "name": "python",
   "nbconvert_exporter": "python",
   "pygments_lexer": "ipython3",
   "version": "3.6.6"
  }
 },
 "nbformat": 4,
 "nbformat_minor": 2
}

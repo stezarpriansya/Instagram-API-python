{
 "cells": [
  {
   "cell_type": "code",
   "execution_count": 1,
   "metadata": {},
   "outputs": [],
   "source": [
    "from InstagramAPI import InstagramAPI\n",
    "import time\n",
    "from datetime import datetime\n",
    "import requests\n",
    "import json\n",
    "import pandas as pd"
   ]
  },
  {
   "cell_type": "code",
   "execution_count": 2,
   "metadata": {},
   "outputs": [],
   "source": [
    "url = 'https://www.instagram.com/p/BoHGsQ6HJ6W/'"
   ]
  },
  {
   "cell_type": "code",
   "execution_count": 3,
   "metadata": {},
   "outputs": [],
   "source": [
    "res = requests.get('https://api.instagram.com/oembed/?callback=&url='+url)"
   ]
  },
  {
   "cell_type": "code",
   "execution_count": 4,
   "metadata": {},
   "outputs": [],
   "source": [
    "json_res = json.loads(res.text)"
   ]
  },
  {
   "cell_type": "code",
   "execution_count": 5,
   "metadata": {},
   "outputs": [],
   "source": [
    "user_id = json_res['author_id']"
   ]
  },
  {
   "cell_type": "code",
   "execution_count": 6,
   "metadata": {},
   "outputs": [],
   "source": [
    "akun = open('akun.env', 'r').read().split('\\n')"
   ]
  },
  {
   "cell_type": "code",
   "execution_count": 7,
   "metadata": {},
   "outputs": [
    {
     "name": "stdout",
     "output_type": "stream",
     "text": [
      "Request return 400 error!\n",
      "Two Factor Authentication Required!\n",
      "Two Factor Identifier:  VgkqTpEhbH\n",
      "Finish login with finishTwoFactorAuth(verification_code, two_factor_identifier) !\n"
     ]
    }
   ],
   "source": [
    "API = InstagramAPI(akun[0], akun[1])\n",
    "API.login()"
   ]
  },
  {
   "cell_type": "code",
   "execution_count": 8,
   "metadata": {},
   "outputs": [
    {
     "name": "stdout",
     "output_type": "stream",
     "text": [
      "Request return 404 error!\n",
      "Login success with two factor authentication!\n",
      "\n"
     ]
    },
    {
     "data": {
      "text/plain": [
       "True"
      ]
     },
     "execution_count": 8,
     "metadata": {},
     "output_type": "execute_result"
    }
   ],
   "source": [
    "API.finishTwoFactorAuth('052713', 'VgkqTpEhbH')"
   ]
  },
  {
   "cell_type": "code",
   "execution_count": 9,
   "metadata": {},
   "outputs": [],
   "source": [
    "more_available = True\n",
    "feeds = []\n",
    "max_feed_id = ''"
   ]
  },
  {
   "cell_type": "code",
   "execution_count": 10,
   "metadata": {},
   "outputs": [],
   "source": [
    "while more_available:\n",
    "    feed_seva = API.getUserFeed(user_id, maxid=max_feed_id)\n",
    "    # feed' page come from older to newer, lets preserve desc order in full list\n",
    "    for c in API.LastJson['items']:\n",
    "        feeds.append(c)\n",
    "    more_available = API.LastJson.get('more_available', False)\n",
    "    # next page\n",
    "    if more_available:\n",
    "        max_feed_id = API.LastJson.get('next_max_id', '')\n",
    "        time.sleep(2)"
   ]
  },
  {
   "cell_type": "code",
   "execution_count": 11,
   "metadata": {},
   "outputs": [],
   "source": [
    "feeds1 = []\n",
    "for feed in feeds:\n",
    "#     print(feed)\n",
    "    temp = {}\n",
    "    temp['user_id'] = feed['user']['pk']\n",
    "    temp['username'] = feed['user']['username']\n",
    "    temp['media_id'] = feed['id']\n",
    "    temp['comment_count'] = feed['comment_count']\n",
    "    temp['like_count'] = feed['like_count']\n",
    "    temp['caption'] = feed['caption']['text'] if feed['caption'] else ''\n",
    "#     temp['url_images'] = feed['image_versions2']['candidates'][0]['url']\n",
    "    temp['unique_code'] = feed['code']\n",
    "    temp['taken_at'] = feed['taken_at']\n",
    "    \n",
    "    feeds1.append(temp)"
   ]
  },
  {
   "cell_type": "code",
   "execution_count": 12,
   "metadata": {},
   "outputs": [],
   "source": [
    "feeds_seva = pd.DataFrame(feeds1)"
   ]
  },
  {
   "cell_type": "code",
   "execution_count": 13,
   "metadata": {},
   "outputs": [
    {
     "data": {
      "text/html": [
       "<div>\n",
       "<style scoped>\n",
       "    .dataframe tbody tr th:only-of-type {\n",
       "        vertical-align: middle;\n",
       "    }\n",
       "\n",
       "    .dataframe tbody tr th {\n",
       "        vertical-align: top;\n",
       "    }\n",
       "\n",
       "    .dataframe thead th {\n",
       "        text-align: right;\n",
       "    }\n",
       "</style>\n",
       "<table border=\"1\" class=\"dataframe\">\n",
       "  <thead>\n",
       "    <tr style=\"text-align: right;\">\n",
       "      <th></th>\n",
       "      <th>caption</th>\n",
       "      <th>comment_count</th>\n",
       "      <th>like_count</th>\n",
       "      <th>media_id</th>\n",
       "      <th>taken_at</th>\n",
       "      <th>unique_code</th>\n",
       "      <th>user_id</th>\n",
       "      <th>username</th>\n",
       "    </tr>\n",
       "  </thead>\n",
       "  <tbody>\n",
       "    <tr>\n",
       "      <th>0</th>\n",
       "      <td>FLASH NEWS !\\n•\\nDaihatsu All New Terios dibel...</td>\n",
       "      <td>274</td>\n",
       "      <td>490</td>\n",
       "      <td>1917574694065029692_6030823779</td>\n",
       "      <td>1542812738</td>\n",
       "      <td>BqcmAZGBkI8</td>\n",
       "      <td>6030823779</td>\n",
       "      <td>sevaid_official</td>\n",
       "    </tr>\n",
       "    <tr>\n",
       "      <th>1</th>\n",
       "      <td>Jangan lewatkan Flash Sale Mobil yang ke-3 dar...</td>\n",
       "      <td>416</td>\n",
       "      <td>362</td>\n",
       "      <td>1917433559788788050_6030823779</td>\n",
       "      <td>1542795930</td>\n",
       "      <td>BqcF6njn5lS</td>\n",
       "      <td>6030823779</td>\n",
       "      <td>sevaid_official</td>\n",
       "    </tr>\n",
       "    <tr>\n",
       "      <th>2</th>\n",
       "      <td>Malam ini Flash Sale New Terios mulai pukul 21...</td>\n",
       "      <td>256</td>\n",
       "      <td>621</td>\n",
       "      <td>1917350417314884630_6030823779</td>\n",
       "      <td>1542786002</td>\n",
       "      <td>BqbzAvGACwW</td>\n",
       "      <td>6030823779</td>\n",
       "      <td>sevaid_official</td>\n",
       "    </tr>\n",
       "    <tr>\n",
       "      <th>3</th>\n",
       "      <td>Hanya tinggal 1 hari menuju Flash Sale Terios ...</td>\n",
       "      <td>132</td>\n",
       "      <td>427</td>\n",
       "      <td>1916454787113727304_6030823779</td>\n",
       "      <td>1542679235</td>\n",
       "      <td>BqYnXmeArVI</td>\n",
       "      <td>6030823779</td>\n",
       "      <td>sevaid_official</td>\n",
       "    </tr>\n",
       "    <tr>\n",
       "      <th>4</th>\n",
       "      <td>Ayo share topik menarik yang ingin kamu bahas ...</td>\n",
       "      <td>27</td>\n",
       "      <td>160</td>\n",
       "      <td>1916062078263988520_6030823779</td>\n",
       "      <td>1542632420</td>\n",
       "      <td>BqXOE72hZEo</td>\n",
       "      <td>6030823779</td>\n",
       "      <td>sevaid_official</td>\n",
       "    </tr>\n",
       "  </tbody>\n",
       "</table>\n",
       "</div>"
      ],
      "text/plain": [
       "                                             caption  comment_count  \\\n",
       "0  FLASH NEWS !\\n•\\nDaihatsu All New Terios dibel...            274   \n",
       "1  Jangan lewatkan Flash Sale Mobil yang ke-3 dar...            416   \n",
       "2  Malam ini Flash Sale New Terios mulai pukul 21...            256   \n",
       "3  Hanya tinggal 1 hari menuju Flash Sale Terios ...            132   \n",
       "4  Ayo share topik menarik yang ingin kamu bahas ...             27   \n",
       "\n",
       "   like_count                        media_id    taken_at  unique_code  \\\n",
       "0         490  1917574694065029692_6030823779  1542812738  BqcmAZGBkI8   \n",
       "1         362  1917433559788788050_6030823779  1542795930  BqcF6njn5lS   \n",
       "2         621  1917350417314884630_6030823779  1542786002  BqbzAvGACwW   \n",
       "3         427  1916454787113727304_6030823779  1542679235  BqYnXmeArVI   \n",
       "4         160  1916062078263988520_6030823779  1542632420  BqXOE72hZEo   \n",
       "\n",
       "      user_id         username  \n",
       "0  6030823779  sevaid_official  \n",
       "1  6030823779  sevaid_official  \n",
       "2  6030823779  sevaid_official  \n",
       "3  6030823779  sevaid_official  \n",
       "4  6030823779  sevaid_official  "
      ]
     },
     "execution_count": 13,
     "metadata": {},
     "output_type": "execute_result"
    }
   ],
   "source": [
    "feeds_seva.head()"
   ]
  },
  {
   "cell_type": "code",
   "execution_count": 23,
   "metadata": {},
   "outputs": [
    {
     "data": {
      "text/plain": [
       "10332"
      ]
     },
     "execution_count": 23,
     "metadata": {},
     "output_type": "execute_result"
    }
   ],
   "source": [
    "len(comments)"
   ]
  },
  {
   "cell_type": "code",
   "execution_count": 16,
   "metadata": {},
   "outputs": [
    {
     "name": "stdout",
     "output_type": "stream",
     "text": [
      "Except on SendRequest (wait 60 sec and resend): HTTPSConnectionPool(host='i.instagram.com', port=443): Max retries exceeded with url: /api/v1/media/1875544300446364809_6030823779/comments/?max_id=%7B%22server_cursor%22:%20%22QVFDSkdmMERzVEtrVmNETjc5TFh0ZkJOMU5BeEE0OW1LM1gyQ0xueG9TOFBFYmxOWFBHZnRoUWEwaU9saTJMMDFYNXcyRnZ3bEIwdXJjaXNFMk10eERNXw==%22,%20%22is_server_cursor_inverse%22:%20false%7D (Caused by NewConnectionError('<requests.packages.urllib3.connection.VerifiedHTTPSConnection object at 0x000001FC12E48438>: Failed to establish a new connection: [WinError 10060] A connection attempt failed because the connected party did not properly respond after a period of time, or established connection failed because connected host has failed to respond',))\n"
     ]
    }
   ],
   "source": [
    "comments = []\n",
    "for feed in feeds1:\n",
    "    has_more_comments = True\n",
    "    max_id = ''\n",
    "    while has_more_comments:\n",
    "        _ = API.getMediaComments(feed['media_id'], max_id=max_id)\n",
    "        # comments' page come from older to newer, lets preserve desc order in full list\n",
    "        for c in reversed(API.LastJson['comments']):\n",
    "            temp_com = {}\n",
    "            temp_com['comment_id'] = c['pk']\n",
    "            temp_com['user_id_comment'] = c['user_id']\n",
    "            temp_com['username_coment'] = c['user']['username']\n",
    "            temp_com['media_id'] = feed['media_id']\n",
    "            temp_com['text'] = c['text']\n",
    "            temp_com['created_at'] = c['created_at']\n",
    "            \n",
    "            comments.append(temp_com)\n",
    "        has_more_comments = API.LastJson.get('has_more_comments', False)\n",
    "        # next page\n",
    "        if has_more_comments:\n",
    "            max_id = API.LastJson.get('next_max_id', '')\n",
    "            time.sleep(2)"
   ]
  },
  {
   "cell_type": "code",
   "execution_count": 24,
   "metadata": {},
   "outputs": [],
   "source": [
    "comments_seva = pd.DataFrame(comments)"
   ]
  },
  {
   "cell_type": "code",
   "execution_count": 32,
   "metadata": {},
   "outputs": [],
   "source": [
    "feeds_seva.to_csv('feedseva20181122.csv')"
   ]
  },
  {
   "cell_type": "code",
   "execution_count": 33,
   "metadata": {},
   "outputs": [],
   "source": [
    "comments_seva.to_csv('commentseva20181122.csv')"
   ]
  },
  {
   "cell_type": "code",
   "execution_count": 25,
   "metadata": {},
   "outputs": [],
   "source": [
    "from datetime import datetime"
   ]
  },
  {
   "cell_type": "code",
   "execution_count": 28,
   "metadata": {},
   "outputs": [
    {
     "ename": "TypeError",
     "evalue": "an integer is required (got type str)",
     "output_type": "error",
     "traceback": [
      "\u001b[1;31m---------------------------------------------------------------------------\u001b[0m",
      "\u001b[1;31mTypeError\u001b[0m                                 Traceback (most recent call last)",
      "\u001b[1;32m<ipython-input-28-ba1f068b1719>\u001b[0m in \u001b[0;36m<module>\u001b[1;34m()\u001b[0m\n\u001b[1;32m----> 1\u001b[1;33m \u001b[0mcomments_seva\u001b[0m\u001b[1;33m[\u001b[0m\u001b[1;34m'created_at'\u001b[0m\u001b[1;33m]\u001b[0m \u001b[1;33m=\u001b[0m \u001b[0mcomments_seva\u001b[0m\u001b[1;33m[\u001b[0m\u001b[1;34m'created_at'\u001b[0m\u001b[1;33m]\u001b[0m\u001b[1;33m.\u001b[0m\u001b[0mapply\u001b[0m\u001b[1;33m(\u001b[0m\u001b[1;32mlambda\u001b[0m \u001b[0mx\u001b[0m\u001b[1;33m:\u001b[0m \u001b[0mdatetime\u001b[0m\u001b[1;33m.\u001b[0m\u001b[0mstrftime\u001b[0m\u001b[1;33m(\u001b[0m\u001b[0mdatetime\u001b[0m\u001b[1;33m.\u001b[0m\u001b[0mutcfromtimestamp\u001b[0m\u001b[1;33m(\u001b[0m\u001b[0mx\u001b[0m\u001b[1;33m)\u001b[0m\u001b[1;33m,\u001b[0m \u001b[1;34m'%Y-%m-%d %H:%I:%S'\u001b[0m\u001b[1;33m)\u001b[0m\u001b[1;33m)\u001b[0m\u001b[1;33m\u001b[0m\u001b[0m\n\u001b[0m",
      "\u001b[1;32m~\\AppData\\Local\\Continuum\\anaconda3\\lib\\site-packages\\pandas\\core\\series.py\u001b[0m in \u001b[0;36mapply\u001b[1;34m(self, func, convert_dtype, args, **kwds)\u001b[0m\n\u001b[0;32m   3192\u001b[0m             \u001b[1;32melse\u001b[0m\u001b[1;33m:\u001b[0m\u001b[1;33m\u001b[0m\u001b[0m\n\u001b[0;32m   3193\u001b[0m                 \u001b[0mvalues\u001b[0m \u001b[1;33m=\u001b[0m \u001b[0mself\u001b[0m\u001b[1;33m.\u001b[0m\u001b[0mastype\u001b[0m\u001b[1;33m(\u001b[0m\u001b[0mobject\u001b[0m\u001b[1;33m)\u001b[0m\u001b[1;33m.\u001b[0m\u001b[0mvalues\u001b[0m\u001b[1;33m\u001b[0m\u001b[0m\n\u001b[1;32m-> 3194\u001b[1;33m                 \u001b[0mmapped\u001b[0m \u001b[1;33m=\u001b[0m \u001b[0mlib\u001b[0m\u001b[1;33m.\u001b[0m\u001b[0mmap_infer\u001b[0m\u001b[1;33m(\u001b[0m\u001b[0mvalues\u001b[0m\u001b[1;33m,\u001b[0m \u001b[0mf\u001b[0m\u001b[1;33m,\u001b[0m \u001b[0mconvert\u001b[0m\u001b[1;33m=\u001b[0m\u001b[0mconvert_dtype\u001b[0m\u001b[1;33m)\u001b[0m\u001b[1;33m\u001b[0m\u001b[0m\n\u001b[0m\u001b[0;32m   3195\u001b[0m \u001b[1;33m\u001b[0m\u001b[0m\n\u001b[0;32m   3196\u001b[0m         \u001b[1;32mif\u001b[0m \u001b[0mlen\u001b[0m\u001b[1;33m(\u001b[0m\u001b[0mmapped\u001b[0m\u001b[1;33m)\u001b[0m \u001b[1;32mand\u001b[0m \u001b[0misinstance\u001b[0m\u001b[1;33m(\u001b[0m\u001b[0mmapped\u001b[0m\u001b[1;33m[\u001b[0m\u001b[1;36m0\u001b[0m\u001b[1;33m]\u001b[0m\u001b[1;33m,\u001b[0m \u001b[0mSeries\u001b[0m\u001b[1;33m)\u001b[0m\u001b[1;33m:\u001b[0m\u001b[1;33m\u001b[0m\u001b[0m\n",
      "\u001b[1;32mpandas/_libs/src/inference.pyx\u001b[0m in \u001b[0;36mpandas._libs.lib.map_infer\u001b[1;34m()\u001b[0m\n",
      "\u001b[1;32m<ipython-input-28-ba1f068b1719>\u001b[0m in \u001b[0;36m<lambda>\u001b[1;34m(x)\u001b[0m\n\u001b[1;32m----> 1\u001b[1;33m \u001b[0mcomments_seva\u001b[0m\u001b[1;33m[\u001b[0m\u001b[1;34m'created_at'\u001b[0m\u001b[1;33m]\u001b[0m \u001b[1;33m=\u001b[0m \u001b[0mcomments_seva\u001b[0m\u001b[1;33m[\u001b[0m\u001b[1;34m'created_at'\u001b[0m\u001b[1;33m]\u001b[0m\u001b[1;33m.\u001b[0m\u001b[0mapply\u001b[0m\u001b[1;33m(\u001b[0m\u001b[1;32mlambda\u001b[0m \u001b[0mx\u001b[0m\u001b[1;33m:\u001b[0m \u001b[0mdatetime\u001b[0m\u001b[1;33m.\u001b[0m\u001b[0mstrftime\u001b[0m\u001b[1;33m(\u001b[0m\u001b[0mdatetime\u001b[0m\u001b[1;33m.\u001b[0m\u001b[0mutcfromtimestamp\u001b[0m\u001b[1;33m(\u001b[0m\u001b[0mx\u001b[0m\u001b[1;33m)\u001b[0m\u001b[1;33m,\u001b[0m \u001b[1;34m'%Y-%m-%d %H:%I:%S'\u001b[0m\u001b[1;33m)\u001b[0m\u001b[1;33m)\u001b[0m\u001b[1;33m\u001b[0m\u001b[0m\n\u001b[0m",
      "\u001b[1;31mTypeError\u001b[0m: an integer is required (got type str)"
     ]
    }
   ],
   "source": [
    "comments_seva['created_at'] = comments_seva['created_at'].apply(lambda x: datetime.strftime(datetime.utcfromtimestamp(x), '%Y-%m-%d %H:%I:%S'))"
   ]
  },
  {
   "cell_type": "code",
   "execution_count": 29,
   "metadata": {},
   "outputs": [
    {
     "ename": "TypeError",
     "evalue": "an integer is required (got type str)",
     "output_type": "error",
     "traceback": [
      "\u001b[1;31m---------------------------------------------------------------------------\u001b[0m",
      "\u001b[1;31mTypeError\u001b[0m                                 Traceback (most recent call last)",
      "\u001b[1;32m<ipython-input-29-2e3b7fdf2de5>\u001b[0m in \u001b[0;36m<module>\u001b[1;34m()\u001b[0m\n\u001b[1;32m----> 1\u001b[1;33m \u001b[0mfeeds_seva\u001b[0m\u001b[1;33m[\u001b[0m\u001b[1;34m'taken_at'\u001b[0m\u001b[1;33m]\u001b[0m \u001b[1;33m=\u001b[0m \u001b[0mfeeds_seva\u001b[0m\u001b[1;33m[\u001b[0m\u001b[1;34m'taken_at'\u001b[0m\u001b[1;33m]\u001b[0m\u001b[1;33m.\u001b[0m\u001b[0mapply\u001b[0m\u001b[1;33m(\u001b[0m\u001b[1;32mlambda\u001b[0m \u001b[0mx\u001b[0m\u001b[1;33m:\u001b[0m \u001b[0mdatetime\u001b[0m\u001b[1;33m.\u001b[0m\u001b[0mstrftime\u001b[0m\u001b[1;33m(\u001b[0m\u001b[0mdatetime\u001b[0m\u001b[1;33m.\u001b[0m\u001b[0mutcfromtimestamp\u001b[0m\u001b[1;33m(\u001b[0m\u001b[0mstr\u001b[0m\u001b[1;33m(\u001b[0m\u001b[0mx\u001b[0m\u001b[1;33m)\u001b[0m\u001b[1;33m)\u001b[0m\u001b[1;33m,\u001b[0m \u001b[1;34m'%Y-%m-%d %H:%I:%S'\u001b[0m\u001b[1;33m)\u001b[0m\u001b[1;33m)\u001b[0m\u001b[1;33m\u001b[0m\u001b[0m\n\u001b[0m",
      "\u001b[1;32m~\\AppData\\Local\\Continuum\\anaconda3\\lib\\site-packages\\pandas\\core\\series.py\u001b[0m in \u001b[0;36mapply\u001b[1;34m(self, func, convert_dtype, args, **kwds)\u001b[0m\n\u001b[0;32m   3192\u001b[0m             \u001b[1;32melse\u001b[0m\u001b[1;33m:\u001b[0m\u001b[1;33m\u001b[0m\u001b[0m\n\u001b[0;32m   3193\u001b[0m                 \u001b[0mvalues\u001b[0m \u001b[1;33m=\u001b[0m \u001b[0mself\u001b[0m\u001b[1;33m.\u001b[0m\u001b[0mastype\u001b[0m\u001b[1;33m(\u001b[0m\u001b[0mobject\u001b[0m\u001b[1;33m)\u001b[0m\u001b[1;33m.\u001b[0m\u001b[0mvalues\u001b[0m\u001b[1;33m\u001b[0m\u001b[0m\n\u001b[1;32m-> 3194\u001b[1;33m                 \u001b[0mmapped\u001b[0m \u001b[1;33m=\u001b[0m \u001b[0mlib\u001b[0m\u001b[1;33m.\u001b[0m\u001b[0mmap_infer\u001b[0m\u001b[1;33m(\u001b[0m\u001b[0mvalues\u001b[0m\u001b[1;33m,\u001b[0m \u001b[0mf\u001b[0m\u001b[1;33m,\u001b[0m \u001b[0mconvert\u001b[0m\u001b[1;33m=\u001b[0m\u001b[0mconvert_dtype\u001b[0m\u001b[1;33m)\u001b[0m\u001b[1;33m\u001b[0m\u001b[0m\n\u001b[0m\u001b[0;32m   3195\u001b[0m \u001b[1;33m\u001b[0m\u001b[0m\n\u001b[0;32m   3196\u001b[0m         \u001b[1;32mif\u001b[0m \u001b[0mlen\u001b[0m\u001b[1;33m(\u001b[0m\u001b[0mmapped\u001b[0m\u001b[1;33m)\u001b[0m \u001b[1;32mand\u001b[0m \u001b[0misinstance\u001b[0m\u001b[1;33m(\u001b[0m\u001b[0mmapped\u001b[0m\u001b[1;33m[\u001b[0m\u001b[1;36m0\u001b[0m\u001b[1;33m]\u001b[0m\u001b[1;33m,\u001b[0m \u001b[0mSeries\u001b[0m\u001b[1;33m)\u001b[0m\u001b[1;33m:\u001b[0m\u001b[1;33m\u001b[0m\u001b[0m\n",
      "\u001b[1;32mpandas/_libs/src/inference.pyx\u001b[0m in \u001b[0;36mpandas._libs.lib.map_infer\u001b[1;34m()\u001b[0m\n",
      "\u001b[1;32m<ipython-input-29-2e3b7fdf2de5>\u001b[0m in \u001b[0;36m<lambda>\u001b[1;34m(x)\u001b[0m\n\u001b[1;32m----> 1\u001b[1;33m \u001b[0mfeeds_seva\u001b[0m\u001b[1;33m[\u001b[0m\u001b[1;34m'taken_at'\u001b[0m\u001b[1;33m]\u001b[0m \u001b[1;33m=\u001b[0m \u001b[0mfeeds_seva\u001b[0m\u001b[1;33m[\u001b[0m\u001b[1;34m'taken_at'\u001b[0m\u001b[1;33m]\u001b[0m\u001b[1;33m.\u001b[0m\u001b[0mapply\u001b[0m\u001b[1;33m(\u001b[0m\u001b[1;32mlambda\u001b[0m \u001b[0mx\u001b[0m\u001b[1;33m:\u001b[0m \u001b[0mdatetime\u001b[0m\u001b[1;33m.\u001b[0m\u001b[0mstrftime\u001b[0m\u001b[1;33m(\u001b[0m\u001b[0mdatetime\u001b[0m\u001b[1;33m.\u001b[0m\u001b[0mutcfromtimestamp\u001b[0m\u001b[1;33m(\u001b[0m\u001b[0mstr\u001b[0m\u001b[1;33m(\u001b[0m\u001b[0mx\u001b[0m\u001b[1;33m)\u001b[0m\u001b[1;33m)\u001b[0m\u001b[1;33m,\u001b[0m \u001b[1;34m'%Y-%m-%d %H:%I:%S'\u001b[0m\u001b[1;33m)\u001b[0m\u001b[1;33m)\u001b[0m\u001b[1;33m\u001b[0m\u001b[0m\n\u001b[0m",
      "\u001b[1;31mTypeError\u001b[0m: an integer is required (got type str)"
     ]
    }
   ],
   "source": [
    "feeds_seva['taken_at'] = feeds_seva['taken_at'].apply(lambda x: datetime.strftime(datetime.utcfromtimestamp(str(x)), '%Y-%m-%d %H:%I:%S'))"
   ]
  },
  {
   "cell_type": "code",
   "execution_count": 30,
   "metadata": {},
   "outputs": [
    {
     "data": {
      "text/html": [
       "<div>\n",
       "<style scoped>\n",
       "    .dataframe tbody tr th:only-of-type {\n",
       "        vertical-align: middle;\n",
       "    }\n",
       "\n",
       "    .dataframe tbody tr th {\n",
       "        vertical-align: top;\n",
       "    }\n",
       "\n",
       "    .dataframe thead th {\n",
       "        text-align: right;\n",
       "    }\n",
       "</style>\n",
       "<table border=\"1\" class=\"dataframe\">\n",
       "  <thead>\n",
       "    <tr style=\"text-align: right;\">\n",
       "      <th></th>\n",
       "      <th>comment_id</th>\n",
       "      <th>created_at</th>\n",
       "      <th>media_id</th>\n",
       "      <th>text</th>\n",
       "      <th>user_id_comment</th>\n",
       "      <th>username_coment</th>\n",
       "    </tr>\n",
       "  </thead>\n",
       "  <tbody>\n",
       "    <tr>\n",
       "      <th>10327</th>\n",
       "      <td>17913450301083706</td>\n",
       "      <td>2018-03-19 13:01:23</td>\n",
       "      <td>1738465428675687504_6030823779</td>\n",
       "      <td>Mobil impian yg pengen dibeli Alphard, biar bi...</td>\n",
       "      <td>5451372414</td>\n",
       "      <td>elsavinietta</td>\n",
       "    </tr>\n",
       "    <tr>\n",
       "      <th>10328</th>\n",
       "      <td>17930611246034869</td>\n",
       "      <td>2018-03-19 12:12:14</td>\n",
       "      <td>1738465428675687504_6030823779</td>\n",
       "      <td>Wah pas bgt nih.. dr dulu ngidam mu-X gara2 di...</td>\n",
       "      <td>257532447</td>\n",
       "      <td>irham_n</td>\n",
       "    </tr>\n",
       "    <tr>\n",
       "      <th>10329</th>\n",
       "      <td>17913283954085809</td>\n",
       "      <td>2018-03-19 12:12:04</td>\n",
       "      <td>1738465428675687504_6030823779</td>\n",
       "      <td>milih isuzu mu-X lah.. alasan nya... woiii yan...</td>\n",
       "      <td>2125715332</td>\n",
       "      <td>astragemaislami</td>\n",
       "    </tr>\n",
       "    <tr>\n",
       "      <th>10330</th>\n",
       "      <td>17931908614031152</td>\n",
       "      <td>2018-03-20 06:06:23</td>\n",
       "      <td>1726077600039044322_6030823779</td>\n",
       "      <td>Bbnjjkllioop</td>\n",
       "      <td>4237703022</td>\n",
       "      <td>dinadinar_booster</td>\n",
       "    </tr>\n",
       "    <tr>\n",
       "      <th>10331</th>\n",
       "      <td>17930804395204963</td>\n",
       "      <td>2018-10-19 23:11:26</td>\n",
       "      <td>1723120736020094492_6030823779</td>\n",
       "      <td>Bismillah Done spam like @sevaid_official 😍 se...</td>\n",
       "      <td>1537943551</td>\n",
       "      <td>hense246</td>\n",
       "    </tr>\n",
       "  </tbody>\n",
       "</table>\n",
       "</div>"
      ],
      "text/plain": [
       "              comment_id           created_at                        media_id  \\\n",
       "10327  17913450301083706  2018-03-19 13:01:23  1738465428675687504_6030823779   \n",
       "10328  17930611246034869  2018-03-19 12:12:14  1738465428675687504_6030823779   \n",
       "10329  17913283954085809  2018-03-19 12:12:04  1738465428675687504_6030823779   \n",
       "10330  17931908614031152  2018-03-20 06:06:23  1726077600039044322_6030823779   \n",
       "10331  17930804395204963  2018-10-19 23:11:26  1723120736020094492_6030823779   \n",
       "\n",
       "                                                    text  user_id_comment  \\\n",
       "10327  Mobil impian yg pengen dibeli Alphard, biar bi...       5451372414   \n",
       "10328  Wah pas bgt nih.. dr dulu ngidam mu-X gara2 di...        257532447   \n",
       "10329  milih isuzu mu-X lah.. alasan nya... woiii yan...       2125715332   \n",
       "10330                                       Bbnjjkllioop       4237703022   \n",
       "10331  Bismillah Done spam like @sevaid_official 😍 se...       1537943551   \n",
       "\n",
       "         username_coment  \n",
       "10327       elsavinietta  \n",
       "10328            irham_n  \n",
       "10329    astragemaislami  \n",
       "10330  dinadinar_booster  \n",
       "10331           hense246  "
      ]
     },
     "execution_count": 30,
     "metadata": {},
     "output_type": "execute_result"
    }
   ],
   "source": [
    "comments_seva.tail()"
   ]
  },
  {
   "cell_type": "code",
   "execution_count": 31,
   "metadata": {},
   "outputs": [
    {
     "data": {
      "text/html": [
       "<div>\n",
       "<style scoped>\n",
       "    .dataframe tbody tr th:only-of-type {\n",
       "        vertical-align: middle;\n",
       "    }\n",
       "\n",
       "    .dataframe tbody tr th {\n",
       "        vertical-align: top;\n",
       "    }\n",
       "\n",
       "    .dataframe thead th {\n",
       "        text-align: right;\n",
       "    }\n",
       "</style>\n",
       "<table border=\"1\" class=\"dataframe\">\n",
       "  <thead>\n",
       "    <tr style=\"text-align: right;\">\n",
       "      <th></th>\n",
       "      <th>caption</th>\n",
       "      <th>comment_count</th>\n",
       "      <th>like_count</th>\n",
       "      <th>media_id</th>\n",
       "      <th>taken_at</th>\n",
       "      <th>unique_code</th>\n",
       "      <th>user_id</th>\n",
       "      <th>username</th>\n",
       "    </tr>\n",
       "  </thead>\n",
       "  <tbody>\n",
       "    <tr>\n",
       "      <th>166</th>\n",
       "      <td>Hari gini masih rebutan untuk cari parkir? Ber...</td>\n",
       "      <td>0</td>\n",
       "      <td>65</td>\n",
       "      <td>1725312991086109474_6030823779</td>\n",
       "      <td>2018-03-01 08:08:23</td>\n",
       "      <td>BfxiwY4DeMi</td>\n",
       "      <td>6030823779</td>\n",
       "      <td>sevaid_official</td>\n",
       "    </tr>\n",
       "    <tr>\n",
       "      <th>167</th>\n",
       "      <td>Mau cari otomotif terbaru tanpa buang waktu da...</td>\n",
       "      <td>0</td>\n",
       "      <td>65</td>\n",
       "      <td>1725311345350239558_6030823779</td>\n",
       "      <td>2018-03-01 08:08:19</td>\n",
       "      <td>BfxiYcKjWVG</td>\n",
       "      <td>6030823779</td>\n",
       "      <td>sevaid_official</td>\n",
       "    </tr>\n",
       "    <tr>\n",
       "      <th>168</th>\n",
       "      <td>Jika sudah ada yang terpercaya, kenapa harus a...</td>\n",
       "      <td>0</td>\n",
       "      <td>60</td>\n",
       "      <td>1723150954495685058_6030823779</td>\n",
       "      <td>2018-02-26 09:09:22</td>\n",
       "      <td>Bfp3KnZFzHC</td>\n",
       "      <td>6030823779</td>\n",
       "      <td>sevaid_official</td>\n",
       "    </tr>\n",
       "    <tr>\n",
       "      <th>169</th>\n",
       "      <td>Kalau bisa disatu tempat, kenapa harus yang be...</td>\n",
       "      <td>0</td>\n",
       "      <td>54</td>\n",
       "      <td>1723135821379667135_6030823779</td>\n",
       "      <td>2018-02-26 08:08:18</td>\n",
       "      <td>BfpzuZlFgS_</td>\n",
       "      <td>6030823779</td>\n",
       "      <td>sevaid_official</td>\n",
       "    </tr>\n",
       "    <tr>\n",
       "      <th>170</th>\n",
       "      <td>Daripada nunggu yang lama, mending cari yang l...</td>\n",
       "      <td>1</td>\n",
       "      <td>53</td>\n",
       "      <td>1723120736020094492_6030823779</td>\n",
       "      <td>2018-02-26 08:08:20</td>\n",
       "      <td>BfpwS4Pll4c</td>\n",
       "      <td>6030823779</td>\n",
       "      <td>sevaid_official</td>\n",
       "    </tr>\n",
       "  </tbody>\n",
       "</table>\n",
       "</div>"
      ],
      "text/plain": [
       "                                               caption  comment_count  \\\n",
       "166  Hari gini masih rebutan untuk cari parkir? Ber...              0   \n",
       "167  Mau cari otomotif terbaru tanpa buang waktu da...              0   \n",
       "168  Jika sudah ada yang terpercaya, kenapa harus a...              0   \n",
       "169  Kalau bisa disatu tempat, kenapa harus yang be...              0   \n",
       "170  Daripada nunggu yang lama, mending cari yang l...              1   \n",
       "\n",
       "     like_count                        media_id             taken_at  \\\n",
       "166          65  1725312991086109474_6030823779  2018-03-01 08:08:23   \n",
       "167          65  1725311345350239558_6030823779  2018-03-01 08:08:19   \n",
       "168          60  1723150954495685058_6030823779  2018-02-26 09:09:22   \n",
       "169          54  1723135821379667135_6030823779  2018-02-26 08:08:18   \n",
       "170          53  1723120736020094492_6030823779  2018-02-26 08:08:20   \n",
       "\n",
       "     unique_code     user_id         username  \n",
       "166  BfxiwY4DeMi  6030823779  sevaid_official  \n",
       "167  BfxiYcKjWVG  6030823779  sevaid_official  \n",
       "168  Bfp3KnZFzHC  6030823779  sevaid_official  \n",
       "169  BfpzuZlFgS_  6030823779  sevaid_official  \n",
       "170  BfpwS4Pll4c  6030823779  sevaid_official  "
      ]
     },
     "execution_count": 31,
     "metadata": {},
     "output_type": "execute_result"
    }
   ],
   "source": [
    "feeds_seva.tail()"
   ]
  },
  {
   "cell_type": "code",
   "execution_count": null,
   "metadata": {},
   "outputs": [],
   "source": []
  },
  {
   "cell_type": "code",
   "execution_count": 6,
   "metadata": {},
   "outputs": [
    {
     "name": "stdout",
     "output_type": "stream",
     "text": [
      "Request return 400 error!\n",
      "Two Factor Authentication Required!\n",
      "Two Factor Identifier:  RK1eMhkiZW\n",
      "Finish login with finishTwoFactorAuth(verification_code, two_factor_identifier) !\n",
      "Enter 2fa sms code: \n",
      "RK1eMhkiZW \n",
      "Request return 400 error!\n",
      "2FA Failed....\n",
      "<Response [400]>\n",
      "Can't login!\n"
     ]
    }
   ],
   "source": [
    "from InstagramAPI import InstagramAPI\n",
    " \n",
    "api = InstagramAPI(\"stezarpriansya@gmail.com\", \"Stezar-123!\")     #Used actual username and password. Not this!\n",
    " \n",
    "login = False\n",
    " \n",
    "if(api.login()):\n",
    "    login = True\n",
    "elif api.LastJson['two_factor_required'] == True:\n",
    "    tfa_id = api.LastJson['two_factor_info']['two_factor_identifier']\n",
    "    tfa_sms_code = input(\"Enter 2fa sms code: \")\n",
    " \n",
    "    print(tfa_id, tfa_sms_code)\n",
    " \n",
    "    if api.finishTwoFactorAuth(tfa_sms_code, tfa_id) == True:\n",
    "        login = True\n",
    "    else:\n",
    "        print(\"2FA Failed....\")\n",
    "        print(api.LastResponse)  # print last response\n",
    "else:\n",
    "    print(\"Some other login error\")\n",
    "    print(api.LastResponse)  # print last response\n",
    "    exit()\n",
    " \n",
    " \n",
    "if (login):\n",
    "    api.getSelfUserFeed()  # get self user feed\n",
    "    print(api.LastJson)  # print last response JSON\n",
    "    print(\"Login succes!\")\n",
    "else:\n",
    "    print(\"Can't login!\")"
   ]
  },
  {
   "cell_type": "code",
   "execution_count": null,
   "metadata": {},
   "outputs": [],
   "source": []
  }
 ],
 "metadata": {
  "kernelspec": {
   "display_name": "Python 3",
   "language": "python",
   "name": "python3"
  },
  "language_info": {
   "codemirror_mode": {
    "name": "ipython",
    "version": 3
   },
   "file_extension": ".py",
   "mimetype": "text/x-python",
   "name": "python",
   "nbconvert_exporter": "python",
   "pygments_lexer": "ipython3",
   "version": "3.7.0"
  }
 },
 "nbformat": 4,
 "nbformat_minor": 2
}
